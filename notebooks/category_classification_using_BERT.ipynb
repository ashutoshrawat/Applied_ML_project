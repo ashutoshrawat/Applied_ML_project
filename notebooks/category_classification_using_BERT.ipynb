{
  "nbformat": 4,
  "nbformat_minor": 0,
  "metadata": {
    "colab": {
      "name": "category_classification_using_BERT.ipynb",
      "provenance": [],
      "collapsed_sections": []
    },
    "kernelspec": {
      "name": "python3",
      "display_name": "Python 3"
    },
    "language_info": {
      "name": "python"
    },
    "accelerator": "GPU"
  },
  "cells": [
    {
      "cell_type": "code",
      "execution_count": 17,
      "metadata": {
        "id": "kjXCokzS7of_"
      },
      "outputs": [],
      "source": [
        "import numpy as np\n",
        "import pandas as pd\n",
        "import matplotlib.pyplot as plt\n",
        "import json"
      ]
    },
    {
      "cell_type": "code",
      "source": [
        "from google.colab import drive\n",
        "drive.mount('/content/drive')"
      ],
      "metadata": {
        "colab": {
          "base_uri": "https://localhost:8080/"
        },
        "id": "0lJQc71o7xuM",
        "outputId": "ea78b2ad-8047-484a-eb9c-871baf6b1ec0"
      },
      "execution_count": 18,
      "outputs": [
        {
          "output_type": "stream",
          "name": "stdout",
          "text": [
            "Drive already mounted at /content/drive; to attempt to forcibly remount, call drive.mount(\"/content/drive\", force_remount=True).\n"
          ]
        }
      ]
    },
    {
      "cell_type": "code",
      "source": [
        "df_US = pd.read_csv('/content/drive/MyDrive/ashutosh_work/Dataset/USvideos.csv')"
      ],
      "metadata": {
        "id": "w_dgF4jl72Zy"
      },
      "execution_count": 19,
      "outputs": []
    },
    {
      "cell_type": "code",
      "source": [
        "with open('/content/drive/MyDrive/ashutosh_work/Dataset/IN_category_id.json') as f:\n",
        "  data = json.load(f)\n",
        "\n",
        "category_data = {}\n",
        "for item in data['items']:\n",
        "  category_data[int(item['id'])] = item['snippet']['title']\n",
        "category_data"
      ],
      "metadata": {
        "colab": {
          "base_uri": "https://localhost:8080/"
        },
        "id": "4Ntuj4uQGrA1",
        "outputId": "54157e1b-ce52-49db-e623-31ad1851b0e9"
      },
      "execution_count": 20,
      "outputs": [
        {
          "output_type": "execute_result",
          "data": {
            "text/plain": [
              "{1: 'Film & Animation',\n",
              " 2: 'Autos & Vehicles',\n",
              " 10: 'Music',\n",
              " 15: 'Pets & Animals',\n",
              " 17: 'Sports',\n",
              " 18: 'Short Movies',\n",
              " 19: 'Travel & Events',\n",
              " 20: 'Gaming',\n",
              " 21: 'Videoblogging',\n",
              " 22: 'People & Blogs',\n",
              " 23: 'Comedy',\n",
              " 24: 'Entertainment',\n",
              " 25: 'News & Politics',\n",
              " 26: 'Howto & Style',\n",
              " 27: 'Education',\n",
              " 28: 'Science & Technology',\n",
              " 29: 'Nonprofits & Activism',\n",
              " 30: 'Movies',\n",
              " 31: 'Anime/Animation',\n",
              " 32: 'Action/Adventure',\n",
              " 33: 'Classics',\n",
              " 34: 'Comedy',\n",
              " 35: 'Documentary',\n",
              " 36: 'Drama',\n",
              " 37: 'Family',\n",
              " 38: 'Foreign',\n",
              " 39: 'Horror',\n",
              " 40: 'Sci-Fi/Fantasy',\n",
              " 41: 'Thriller',\n",
              " 42: 'Shorts',\n",
              " 43: 'Shows',\n",
              " 44: 'Trailers'}"
            ]
          },
          "metadata": {},
          "execution_count": 20
        }
      ]
    },
    {
      "cell_type": "code",
      "source": [
        "cat_dat_short = {'Film & Animation' : 'F&A',\n",
        " 'Autos & Vehicles' : 'A&V',\n",
        " 'Music' : 'MUS',\n",
        " 'Pets & Animals' : 'P&A',\n",
        " 'Sports': 'SPTS',\n",
        " 'Short Movies' : 'SM',\n",
        " 'Travel & Events' : 'T&E',\n",
        " 'Gaming': 'GAM',\n",
        " 'Videoblogging': 'VBLO',\n",
        " 'People & Blogs' : 'P&B',\n",
        " 'Comedy' : 'COM',\n",
        " 'Entertainment' : 'ENT',\n",
        " 'News & Politics' : 'N&P',\n",
        " 'Howto & Style' : 'H&S',\n",
        " 'Education' : 'EDU',\n",
        " 'Science & Technology' : 'S&T',\n",
        " 'Nonprofits & Activism' : 'NP&A',\n",
        " 'Movies' : 'MOV',\n",
        " 'Anime/Animation' : 'ANI',\n",
        " 'Action/Adventure': 'ADV',\n",
        " 'Classics' : 'CLA',\n",
        " 'Comedy' : 'COM',\n",
        " 'Documentary': 'DOC',\n",
        " 'Drama' : 'DRM',\n",
        " 'Family' : 'FAM',\n",
        " 'Foreign' : 'FOR',\n",
        " 'Horror' : 'HRR',\n",
        " 'Sci-Fi/Fantasy' : 'SCIFI',\n",
        " 'Thriller': 'THRL',\n",
        " 'Shorts' : 'SHO',\n",
        " 'Shows' : 'SWS',\n",
        " 'Trailers' : 'TRLS'}"
      ],
      "metadata": {
        "id": "iv3zS6yh8IKE"
      },
      "execution_count": 21,
      "outputs": []
    },
    {
      "cell_type": "code",
      "source": [
        "df_US['Country'] = 'US'\n",
        "df_US['description'] = df_US['description'].astype(str)\n",
        "df_US['publish_time'] = pd.to_datetime(df_US['publish_time'])\n",
        "df_US['publish_time'] = df_US['publish_time'].dt.tz_convert('US/Central')\n",
        "df_US['publish_year'] = pd.DatetimeIndex(df_US['publish_time']).year\n",
        "df_US['publish_month'] = pd.DatetimeIndex(df_US['publish_time']).month\n",
        "df_US['publish_day'] = pd.DatetimeIndex(df_US['publish_time']).day\n",
        "df_US['publish_day'] = df_US['publish_time'].dt.day_name()\n",
        "df_US['publish_time_part_of_day'] = (df_US['publish_time'].dt.hour % 24 + 4) // 4\n",
        "df_US['publish_time_part_of_day'] = df_US['publish_time_part_of_day'].replace({1: 'Late Night',\n",
        "                                                        2: 'Early Morning',\n",
        "                                                        3: 'Morning',\n",
        "                                                        4: 'Noon',\n",
        "                                                        5: 'Evening',\n",
        "                                                        6: 'Night'})\n",
        "df_US['trending_date'] = '20' + df_US['trending_date']\n",
        "df_US['trending_date'] = pd.to_datetime(df_US['trending_date'], format='%Y.%d.%m')\n",
        "df_US['trending_year'] = pd.DatetimeIndex(df_US['trending_date']).year\n",
        "df_US['trending_month'] = pd.DatetimeIndex(df_US['trending_date']).month\n",
        "df_US['trending_day'] = pd.DatetimeIndex(df_US['trending_date']).day\n",
        "df_US['trending_day'] = df_US['trending_date'].dt.day_name()\n",
        "\n",
        "# Days to trend\n",
        "# Difference between the publish time and trending time\n",
        "df_US['days_to_trend'] = (df_US['trending_date'].dt.date - df_US['publish_time'].dt.date).dt.days\n",
        "# Replace all the days to trend greater than or equal to 8 with a very high value\n",
        "df_US.loc[df_US['days_to_trend'] >= 8, 'days_to_trend'] = 333333\n",
        "\n",
        "# Replace the high value with 8+\n",
        "df_US['days_to_trend'] = df_US['days_to_trend'].astype(str)\n",
        "df_US.loc[df_US['days_to_trend']=='333333', 'days_to_trend'] = '8+'\n",
        "\n",
        "# Add category name\n",
        "df_US['category'] = df_US['category_id'].replace(category_data)\n",
        "df_US['cat'] = df_US['category'].replace(cat_dat_short)\n",
        "\n",
        "possible_labels = df_US['category'].unique()\n",
        "\n",
        "label_dict = {}\n",
        "for index, possible_label in enumerate(possible_labels):\n",
        "    label_dict[possible_label] = index\n",
        "\n",
        "df_US['cat_label'] = df_US['category'].replace(label_dict)"
      ],
      "metadata": {
        "id": "iu2DY03o8J90"
      },
      "execution_count": 22,
      "outputs": []
    },
    {
      "cell_type": "code",
      "source": [
        "df_US.head()"
      ],
      "metadata": {
        "colab": {
          "base_uri": "https://localhost:8080/",
          "height": 521
        },
        "id": "FlaOQvVvHWTQ",
        "outputId": "2a81fb6b-1c0a-4ce7-857d-d8b3ba02a678"
      },
      "execution_count": 23,
      "outputs": [
        {
          "output_type": "execute_result",
          "data": {
            "text/html": [
              "<div>\n",
              "<style scoped>\n",
              "    .dataframe tbody tr th:only-of-type {\n",
              "        vertical-align: middle;\n",
              "    }\n",
              "\n",
              "    .dataframe tbody tr th {\n",
              "        vertical-align: top;\n",
              "    }\n",
              "\n",
              "    .dataframe thead th {\n",
              "        text-align: right;\n",
              "    }\n",
              "</style>\n",
              "<table border=\"1\" class=\"dataframe\">\n",
              "  <thead>\n",
              "    <tr style=\"text-align: right;\">\n",
              "      <th></th>\n",
              "      <th>video_id</th>\n",
              "      <th>trending_date</th>\n",
              "      <th>title</th>\n",
              "      <th>channel_title</th>\n",
              "      <th>category_id</th>\n",
              "      <th>publish_time</th>\n",
              "      <th>tags</th>\n",
              "      <th>views</th>\n",
              "      <th>likes</th>\n",
              "      <th>dislikes</th>\n",
              "      <th>comment_count</th>\n",
              "      <th>thumbnail_link</th>\n",
              "      <th>comments_disabled</th>\n",
              "      <th>ratings_disabled</th>\n",
              "      <th>video_error_or_removed</th>\n",
              "      <th>description</th>\n",
              "      <th>Country</th>\n",
              "      <th>publish_year</th>\n",
              "      <th>publish_month</th>\n",
              "      <th>publish_day</th>\n",
              "      <th>publish_time_part_of_day</th>\n",
              "      <th>trending_year</th>\n",
              "      <th>trending_month</th>\n",
              "      <th>trending_day</th>\n",
              "      <th>days_to_trend</th>\n",
              "      <th>category</th>\n",
              "      <th>cat</th>\n",
              "      <th>cat_label</th>\n",
              "    </tr>\n",
              "  </thead>\n",
              "  <tbody>\n",
              "    <tr>\n",
              "      <th>0</th>\n",
              "      <td>2kyS6SvSYSE</td>\n",
              "      <td>2017-11-14</td>\n",
              "      <td>WE WANT TO TALK ABOUT OUR MARRIAGE</td>\n",
              "      <td>CaseyNeistat</td>\n",
              "      <td>22</td>\n",
              "      <td>2017-11-13 11:13:01-06:00</td>\n",
              "      <td>SHANtell martin</td>\n",
              "      <td>748374</td>\n",
              "      <td>57527</td>\n",
              "      <td>2966</td>\n",
              "      <td>15954</td>\n",
              "      <td>https://i.ytimg.com/vi/2kyS6SvSYSE/default.jpg</td>\n",
              "      <td>False</td>\n",
              "      <td>False</td>\n",
              "      <td>False</td>\n",
              "      <td>SHANTELL'S CHANNEL - https://www.youtube.com/s...</td>\n",
              "      <td>US</td>\n",
              "      <td>2017</td>\n",
              "      <td>11</td>\n",
              "      <td>Monday</td>\n",
              "      <td>Morning</td>\n",
              "      <td>2017</td>\n",
              "      <td>11</td>\n",
              "      <td>Tuesday</td>\n",
              "      <td>1</td>\n",
              "      <td>People &amp; Blogs</td>\n",
              "      <td>P&amp;B</td>\n",
              "      <td>0</td>\n",
              "    </tr>\n",
              "    <tr>\n",
              "      <th>1</th>\n",
              "      <td>1ZAPwfrtAFY</td>\n",
              "      <td>2017-11-14</td>\n",
              "      <td>The Trump Presidency: Last Week Tonight with J...</td>\n",
              "      <td>LastWeekTonight</td>\n",
              "      <td>24</td>\n",
              "      <td>2017-11-13 01:30:00-06:00</td>\n",
              "      <td>last week tonight trump presidency|\"last week ...</td>\n",
              "      <td>2418783</td>\n",
              "      <td>97185</td>\n",
              "      <td>6146</td>\n",
              "      <td>12703</td>\n",
              "      <td>https://i.ytimg.com/vi/1ZAPwfrtAFY/default.jpg</td>\n",
              "      <td>False</td>\n",
              "      <td>False</td>\n",
              "      <td>False</td>\n",
              "      <td>One year after the presidential election, John...</td>\n",
              "      <td>US</td>\n",
              "      <td>2017</td>\n",
              "      <td>11</td>\n",
              "      <td>Monday</td>\n",
              "      <td>Late Night</td>\n",
              "      <td>2017</td>\n",
              "      <td>11</td>\n",
              "      <td>Tuesday</td>\n",
              "      <td>1</td>\n",
              "      <td>Entertainment</td>\n",
              "      <td>ENT</td>\n",
              "      <td>1</td>\n",
              "    </tr>\n",
              "    <tr>\n",
              "      <th>2</th>\n",
              "      <td>5qpjK5DgCt4</td>\n",
              "      <td>2017-11-14</td>\n",
              "      <td>Racist Superman | Rudy Mancuso, King Bach &amp; Le...</td>\n",
              "      <td>Rudy Mancuso</td>\n",
              "      <td>23</td>\n",
              "      <td>2017-11-12 13:05:24-06:00</td>\n",
              "      <td>racist superman|\"rudy\"|\"mancuso\"|\"king\"|\"bach\"...</td>\n",
              "      <td>3191434</td>\n",
              "      <td>146033</td>\n",
              "      <td>5339</td>\n",
              "      <td>8181</td>\n",
              "      <td>https://i.ytimg.com/vi/5qpjK5DgCt4/default.jpg</td>\n",
              "      <td>False</td>\n",
              "      <td>False</td>\n",
              "      <td>False</td>\n",
              "      <td>WATCH MY PREVIOUS VIDEO ▶ \\n\\nSUBSCRIBE ► http...</td>\n",
              "      <td>US</td>\n",
              "      <td>2017</td>\n",
              "      <td>11</td>\n",
              "      <td>Sunday</td>\n",
              "      <td>Noon</td>\n",
              "      <td>2017</td>\n",
              "      <td>11</td>\n",
              "      <td>Tuesday</td>\n",
              "      <td>2</td>\n",
              "      <td>Comedy</td>\n",
              "      <td>COM</td>\n",
              "      <td>2</td>\n",
              "    </tr>\n",
              "    <tr>\n",
              "      <th>3</th>\n",
              "      <td>puqaWrEC7tY</td>\n",
              "      <td>2017-11-14</td>\n",
              "      <td>Nickelback Lyrics: Real or Fake?</td>\n",
              "      <td>Good Mythical Morning</td>\n",
              "      <td>24</td>\n",
              "      <td>2017-11-13 05:00:04-06:00</td>\n",
              "      <td>rhett and link|\"gmm\"|\"good mythical morning\"|\"...</td>\n",
              "      <td>343168</td>\n",
              "      <td>10172</td>\n",
              "      <td>666</td>\n",
              "      <td>2146</td>\n",
              "      <td>https://i.ytimg.com/vi/puqaWrEC7tY/default.jpg</td>\n",
              "      <td>False</td>\n",
              "      <td>False</td>\n",
              "      <td>False</td>\n",
              "      <td>Today we find out if Link is a Nickelback amat...</td>\n",
              "      <td>US</td>\n",
              "      <td>2017</td>\n",
              "      <td>11</td>\n",
              "      <td>Monday</td>\n",
              "      <td>Early Morning</td>\n",
              "      <td>2017</td>\n",
              "      <td>11</td>\n",
              "      <td>Tuesday</td>\n",
              "      <td>1</td>\n",
              "      <td>Entertainment</td>\n",
              "      <td>ENT</td>\n",
              "      <td>1</td>\n",
              "    </tr>\n",
              "    <tr>\n",
              "      <th>4</th>\n",
              "      <td>d380meD0W0M</td>\n",
              "      <td>2017-11-14</td>\n",
              "      <td>I Dare You: GOING BALD!?</td>\n",
              "      <td>nigahiga</td>\n",
              "      <td>24</td>\n",
              "      <td>2017-11-12 12:01:41-06:00</td>\n",
              "      <td>ryan|\"higa\"|\"higatv\"|\"nigahiga\"|\"i dare you\"|\"...</td>\n",
              "      <td>2095731</td>\n",
              "      <td>132235</td>\n",
              "      <td>1989</td>\n",
              "      <td>17518</td>\n",
              "      <td>https://i.ytimg.com/vi/d380meD0W0M/default.jpg</td>\n",
              "      <td>False</td>\n",
              "      <td>False</td>\n",
              "      <td>False</td>\n",
              "      <td>I know it's been a while since we did this sho...</td>\n",
              "      <td>US</td>\n",
              "      <td>2017</td>\n",
              "      <td>11</td>\n",
              "      <td>Sunday</td>\n",
              "      <td>Noon</td>\n",
              "      <td>2017</td>\n",
              "      <td>11</td>\n",
              "      <td>Tuesday</td>\n",
              "      <td>2</td>\n",
              "      <td>Entertainment</td>\n",
              "      <td>ENT</td>\n",
              "      <td>1</td>\n",
              "    </tr>\n",
              "  </tbody>\n",
              "</table>\n",
              "</div>"
            ],
            "text/plain": [
              "      video_id trending_date  ...  cat cat_label\n",
              "0  2kyS6SvSYSE    2017-11-14  ...  P&B         0\n",
              "1  1ZAPwfrtAFY    2017-11-14  ...  ENT         1\n",
              "2  5qpjK5DgCt4    2017-11-14  ...  COM         2\n",
              "3  puqaWrEC7tY    2017-11-14  ...  ENT         1\n",
              "4  d380meD0W0M    2017-11-14  ...  ENT         1\n",
              "\n",
              "[5 rows x 28 columns]"
            ]
          },
          "metadata": {},
          "execution_count": 23
        }
      ]
    },
    {
      "cell_type": "code",
      "source": [
        "df_US['category'].value_counts()"
      ],
      "metadata": {
        "colab": {
          "base_uri": "https://localhost:8080/"
        },
        "id": "CIA1Yyx19Zqr",
        "outputId": "3b3cc4df-ea6a-4b3a-b2bb-3396c7913100"
      },
      "execution_count": 24,
      "outputs": [
        {
          "output_type": "execute_result",
          "data": {
            "text/plain": [
              "Entertainment            9964\n",
              "Music                    6472\n",
              "Howto & Style            4146\n",
              "Comedy                   3457\n",
              "People & Blogs           3210\n",
              "News & Politics          2487\n",
              "Science & Technology     2401\n",
              "Film & Animation         2345\n",
              "Sports                   2174\n",
              "Education                1656\n",
              "Pets & Animals            920\n",
              "Gaming                    817\n",
              "Travel & Events           402\n",
              "Autos & Vehicles          384\n",
              "Nonprofits & Activism      57\n",
              "Shows                      57\n",
              "Name: category, dtype: int64"
            ]
          },
          "metadata": {},
          "execution_count": 24
        }
      ]
    },
    {
      "cell_type": "code",
      "source": [
        "from sklearn.model_selection import train_test_split\n",
        "from sklearn.utils import compute_class_weight\n",
        "\n",
        "class_weights = compute_class_weight(\n",
        "                                        class_weight = \"balanced\",\n",
        "                                        classes = np.unique(df_US['category']),\n",
        "                                        y = df_US['category']                                                    \n",
        "                                    )\n",
        "class_weights = dict(zip(np.unique(df_US['category']), class_weights)),\n",
        "class_weights"
      ],
      "metadata": {
        "id": "wS6bz2KsuKIp",
        "colab": {
          "base_uri": "https://localhost:8080/"
        },
        "outputId": "bf27e4af-d520-4f35-fe92-19c6b8faf946"
      },
      "execution_count": 25,
      "outputs": [
        {
          "output_type": "execute_result",
          "data": {
            "text/plain": [
              "({'Autos & Vehicles': 6.664876302083333,\n",
              "  'Comedy': 0.7403275961816604,\n",
              "  'Education': 1.5454785628019323,\n",
              "  'Entertainment': 0.2568559313528703,\n",
              "  'Film & Animation': 1.0913912579957357,\n",
              "  'Gaming': 3.132573439412485,\n",
              "  'Howto & Style': 0.6172967920887602,\n",
              "  'Music': 0.3954438349814586,\n",
              "  'News & Politics': 1.0290761962203459,\n",
              "  'Nonprofits & Activism': 44.90021929824562,\n",
              "  'People & Blogs': 0.7972936137071651,\n",
              "  'Pets & Animals': 2.7818614130434782,\n",
              "  'Science & Technology': 1.0659360683048729,\n",
              "  'Shows': 44.90021929824562,\n",
              "  'Sports': 1.1772366605335787,\n",
              "  'Travel & Events': 6.366449004975125},)"
            ]
          },
          "metadata": {},
          "execution_count": 25
        }
      ]
    },
    {
      "cell_type": "code",
      "source": [
        "X = df_US['description'].values\n",
        "Y = df_US['cat_label'].values\n",
        "X_train, X_test, y_train, y_test = train_test_split(X, Y, test_size=0.20, random_state=32)"
      ],
      "metadata": {
        "id": "XQyTo3ajuM2y"
      },
      "execution_count": 26,
      "outputs": []
    },
    {
      "cell_type": "code",
      "source": [
        "! pip install tensorflow-text"
      ],
      "metadata": {
        "colab": {
          "base_uri": "https://localhost:8080/"
        },
        "id": "JBNEwi4edbXb",
        "outputId": "d1866f2d-f435-48ca-d329-e1667c241ee9"
      },
      "execution_count": 27,
      "outputs": [
        {
          "output_type": "stream",
          "name": "stdout",
          "text": [
            "Collecting tensorflow-text\n",
            "  Downloading tensorflow_text-2.7.3-cp37-cp37m-manylinux2010_x86_64.whl (4.9 MB)\n",
            "\u001b[K     |████████████████████████████████| 4.9 MB 4.1 MB/s \n",
            "\u001b[?25hRequirement already satisfied: tensorflow<2.8,>=2.7.0 in /usr/local/lib/python3.7/dist-packages (from tensorflow-text) (2.7.0)\n",
            "Requirement already satisfied: tensorflow-hub>=0.8.0 in /usr/local/lib/python3.7/dist-packages (from tensorflow-text) (0.12.0)\n",
            "Requirement already satisfied: numpy>=1.14.5 in /usr/local/lib/python3.7/dist-packages (from tensorflow<2.8,>=2.7.0->tensorflow-text) (1.19.5)\n",
            "Requirement already satisfied: flatbuffers<3.0,>=1.12 in /usr/local/lib/python3.7/dist-packages (from tensorflow<2.8,>=2.7.0->tensorflow-text) (2.0)\n",
            "Requirement already satisfied: six>=1.12.0 in /usr/local/lib/python3.7/dist-packages (from tensorflow<2.8,>=2.7.0->tensorflow-text) (1.15.0)\n",
            "Requirement already satisfied: keras-preprocessing>=1.1.1 in /usr/local/lib/python3.7/dist-packages (from tensorflow<2.8,>=2.7.0->tensorflow-text) (1.1.2)\n",
            "Requirement already satisfied: termcolor>=1.1.0 in /usr/local/lib/python3.7/dist-packages (from tensorflow<2.8,>=2.7.0->tensorflow-text) (1.1.0)\n",
            "Requirement already satisfied: tensorflow-estimator<2.8,~=2.7.0rc0 in /usr/local/lib/python3.7/dist-packages (from tensorflow<2.8,>=2.7.0->tensorflow-text) (2.7.0)\n",
            "Requirement already satisfied: tensorboard~=2.6 in /usr/local/lib/python3.7/dist-packages (from tensorflow<2.8,>=2.7.0->tensorflow-text) (2.7.0)\n",
            "Requirement already satisfied: gast<0.5.0,>=0.2.1 in /usr/local/lib/python3.7/dist-packages (from tensorflow<2.8,>=2.7.0->tensorflow-text) (0.4.0)\n",
            "Requirement already satisfied: keras<2.8,>=2.7.0rc0 in /usr/local/lib/python3.7/dist-packages (from tensorflow<2.8,>=2.7.0->tensorflow-text) (2.7.0)\n",
            "Requirement already satisfied: h5py>=2.9.0 in /usr/local/lib/python3.7/dist-packages (from tensorflow<2.8,>=2.7.0->tensorflow-text) (3.1.0)\n",
            "Requirement already satisfied: grpcio<2.0,>=1.24.3 in /usr/local/lib/python3.7/dist-packages (from tensorflow<2.8,>=2.7.0->tensorflow-text) (1.42.0)\n",
            "Requirement already satisfied: astunparse>=1.6.0 in /usr/local/lib/python3.7/dist-packages (from tensorflow<2.8,>=2.7.0->tensorflow-text) (1.6.3)\n",
            "Requirement already satisfied: tensorflow-io-gcs-filesystem>=0.21.0 in /usr/local/lib/python3.7/dist-packages (from tensorflow<2.8,>=2.7.0->tensorflow-text) (0.22.0)\n",
            "Requirement already satisfied: protobuf>=3.9.2 in /usr/local/lib/python3.7/dist-packages (from tensorflow<2.8,>=2.7.0->tensorflow-text) (3.17.3)\n",
            "Requirement already satisfied: typing-extensions>=3.6.6 in /usr/local/lib/python3.7/dist-packages (from tensorflow<2.8,>=2.7.0->tensorflow-text) (3.10.0.2)\n",
            "Requirement already satisfied: opt-einsum>=2.3.2 in /usr/local/lib/python3.7/dist-packages (from tensorflow<2.8,>=2.7.0->tensorflow-text) (3.3.0)\n",
            "Requirement already satisfied: libclang>=9.0.1 in /usr/local/lib/python3.7/dist-packages (from tensorflow<2.8,>=2.7.0->tensorflow-text) (12.0.0)\n",
            "Requirement already satisfied: wrapt>=1.11.0 in /usr/local/lib/python3.7/dist-packages (from tensorflow<2.8,>=2.7.0->tensorflow-text) (1.13.3)\n",
            "Requirement already satisfied: absl-py>=0.4.0 in /usr/local/lib/python3.7/dist-packages (from tensorflow<2.8,>=2.7.0->tensorflow-text) (0.12.0)\n",
            "Requirement already satisfied: google-pasta>=0.1.1 in /usr/local/lib/python3.7/dist-packages (from tensorflow<2.8,>=2.7.0->tensorflow-text) (0.2.0)\n",
            "Requirement already satisfied: wheel<1.0,>=0.32.0 in /usr/local/lib/python3.7/dist-packages (from tensorflow<2.8,>=2.7.0->tensorflow-text) (0.37.0)\n",
            "Requirement already satisfied: cached-property in /usr/local/lib/python3.7/dist-packages (from h5py>=2.9.0->tensorflow<2.8,>=2.7.0->tensorflow-text) (1.5.2)\n",
            "Requirement already satisfied: setuptools>=41.0.0 in /usr/local/lib/python3.7/dist-packages (from tensorboard~=2.6->tensorflow<2.8,>=2.7.0->tensorflow-text) (57.4.0)\n",
            "Requirement already satisfied: markdown>=2.6.8 in /usr/local/lib/python3.7/dist-packages (from tensorboard~=2.6->tensorflow<2.8,>=2.7.0->tensorflow-text) (3.3.6)\n",
            "Requirement already satisfied: tensorboard-plugin-wit>=1.6.0 in /usr/local/lib/python3.7/dist-packages (from tensorboard~=2.6->tensorflow<2.8,>=2.7.0->tensorflow-text) (1.8.0)\n",
            "Requirement already satisfied: tensorboard-data-server<0.7.0,>=0.6.0 in /usr/local/lib/python3.7/dist-packages (from tensorboard~=2.6->tensorflow<2.8,>=2.7.0->tensorflow-text) (0.6.1)\n",
            "Requirement already satisfied: requests<3,>=2.21.0 in /usr/local/lib/python3.7/dist-packages (from tensorboard~=2.6->tensorflow<2.8,>=2.7.0->tensorflow-text) (2.23.0)\n",
            "Requirement already satisfied: werkzeug>=0.11.15 in /usr/local/lib/python3.7/dist-packages (from tensorboard~=2.6->tensorflow<2.8,>=2.7.0->tensorflow-text) (1.0.1)\n",
            "Requirement already satisfied: google-auth-oauthlib<0.5,>=0.4.1 in /usr/local/lib/python3.7/dist-packages (from tensorboard~=2.6->tensorflow<2.8,>=2.7.0->tensorflow-text) (0.4.6)\n",
            "Requirement already satisfied: google-auth<3,>=1.6.3 in /usr/local/lib/python3.7/dist-packages (from tensorboard~=2.6->tensorflow<2.8,>=2.7.0->tensorflow-text) (1.35.0)\n",
            "Requirement already satisfied: pyasn1-modules>=0.2.1 in /usr/local/lib/python3.7/dist-packages (from google-auth<3,>=1.6.3->tensorboard~=2.6->tensorflow<2.8,>=2.7.0->tensorflow-text) (0.2.8)\n",
            "Requirement already satisfied: rsa<5,>=3.1.4 in /usr/local/lib/python3.7/dist-packages (from google-auth<3,>=1.6.3->tensorboard~=2.6->tensorflow<2.8,>=2.7.0->tensorflow-text) (4.8)\n",
            "Requirement already satisfied: cachetools<5.0,>=2.0.0 in /usr/local/lib/python3.7/dist-packages (from google-auth<3,>=1.6.3->tensorboard~=2.6->tensorflow<2.8,>=2.7.0->tensorflow-text) (4.2.4)\n",
            "Requirement already satisfied: requests-oauthlib>=0.7.0 in /usr/local/lib/python3.7/dist-packages (from google-auth-oauthlib<0.5,>=0.4.1->tensorboard~=2.6->tensorflow<2.8,>=2.7.0->tensorflow-text) (1.3.0)\n",
            "Requirement already satisfied: importlib-metadata>=4.4 in /usr/local/lib/python3.7/dist-packages (from markdown>=2.6.8->tensorboard~=2.6->tensorflow<2.8,>=2.7.0->tensorflow-text) (4.8.2)\n",
            "Requirement already satisfied: zipp>=0.5 in /usr/local/lib/python3.7/dist-packages (from importlib-metadata>=4.4->markdown>=2.6.8->tensorboard~=2.6->tensorflow<2.8,>=2.7.0->tensorflow-text) (3.6.0)\n",
            "Requirement already satisfied: pyasn1<0.5.0,>=0.4.6 in /usr/local/lib/python3.7/dist-packages (from pyasn1-modules>=0.2.1->google-auth<3,>=1.6.3->tensorboard~=2.6->tensorflow<2.8,>=2.7.0->tensorflow-text) (0.4.8)\n",
            "Requirement already satisfied: idna<3,>=2.5 in /usr/local/lib/python3.7/dist-packages (from requests<3,>=2.21.0->tensorboard~=2.6->tensorflow<2.8,>=2.7.0->tensorflow-text) (2.10)\n",
            "Requirement already satisfied: chardet<4,>=3.0.2 in /usr/local/lib/python3.7/dist-packages (from requests<3,>=2.21.0->tensorboard~=2.6->tensorflow<2.8,>=2.7.0->tensorflow-text) (3.0.4)\n",
            "Requirement already satisfied: certifi>=2017.4.17 in /usr/local/lib/python3.7/dist-packages (from requests<3,>=2.21.0->tensorboard~=2.6->tensorflow<2.8,>=2.7.0->tensorflow-text) (2021.10.8)\n",
            "Requirement already satisfied: urllib3!=1.25.0,!=1.25.1,<1.26,>=1.21.1 in /usr/local/lib/python3.7/dist-packages (from requests<3,>=2.21.0->tensorboard~=2.6->tensorflow<2.8,>=2.7.0->tensorflow-text) (1.24.3)\n",
            "Requirement already satisfied: oauthlib>=3.0.0 in /usr/local/lib/python3.7/dist-packages (from requests-oauthlib>=0.7.0->google-auth-oauthlib<0.5,>=0.4.1->tensorboard~=2.6->tensorflow<2.8,>=2.7.0->tensorflow-text) (3.1.1)\n",
            "Installing collected packages: tensorflow-text\n",
            "Successfully installed tensorflow-text-2.7.3\n"
          ]
        }
      ]
    },
    {
      "cell_type": "code",
      "source": [
        "!pip install -q tf-models-official"
      ],
      "metadata": {
        "colab": {
          "base_uri": "https://localhost:8080/"
        },
        "id": "E0qYsiTgwq2T",
        "outputId": "638bdcf1-6807-4b3e-9d14-7d059953b222"
      },
      "execution_count": 28,
      "outputs": [
        {
          "output_type": "stream",
          "name": "stdout",
          "text": [
            "\u001b[K     |████████████████████████████████| 1.8 MB 4.4 MB/s \n",
            "\u001b[K     |████████████████████████████████| 1.1 MB 14.3 MB/s \n",
            "\u001b[K     |████████████████████████████████| 47.6 MB 2.3 MB/s \n",
            "\u001b[K     |████████████████████████████████| 90 kB 4.4 MB/s \n",
            "\u001b[K     |████████████████████████████████| 213 kB 11.7 MB/s \n",
            "\u001b[K     |████████████████████████████████| 43 kB 1.7 MB/s \n",
            "\u001b[K     |████████████████████████████████| 99 kB 3.8 MB/s \n",
            "\u001b[K     |████████████████████████████████| 1.2 MB 13.5 MB/s \n",
            "\u001b[K     |████████████████████████████████| 352 kB 26.6 MB/s \n",
            "\u001b[?25h  Building wheel for py-cpuinfo (setup.py) ... \u001b[?25l\u001b[?25hdone\n",
            "  Building wheel for seqeval (setup.py) ... \u001b[?25l\u001b[?25hdone\n"
          ]
        }
      ]
    },
    {
      "cell_type": "code",
      "source": [
        "import tensorflow_hub as tf_hub\n",
        "import tensorflow as tf\n",
        "import tensorflow_text as text\n",
        "from official.nlp import optimization  # to create AdamW optimizer\n",
        "import matplotlib.pyplot as plt\n",
        "\n",
        "print(\"Version: \", tf.__version__)\n",
        "print(\"Eager mode: \", tf.executing_eagerly())\n",
        "print(\"Hub version: \", tf_hub.__version__)\n",
        "print(\"GPU is\", \"available\" if tf.config.list_physical_devices(\"GPU\") else \"NOT AVAILABLE\")\n"
      ],
      "metadata": {
        "colab": {
          "base_uri": "https://localhost:8080/"
        },
        "id": "6RoNEkUPWPLy",
        "outputId": "4553e2f3-49c5-4241-c551-e07fcf0b5280"
      },
      "execution_count": 12,
      "outputs": [
        {
          "output_type": "stream",
          "name": "stdout",
          "text": [
            "Version:  2.7.0\n",
            "Eager mode:  True\n",
            "Hub version:  0.12.0\n",
            "GPU is available\n"
          ]
        }
      ]
    },
    {
      "cell_type": "code",
      "source": [
        "# Changing target classes to categorical \n",
        "\n",
        "y_train = tf.keras.utils.to_categorical(y_train, 16)\n",
        "y_test = tf.keras.utils.to_categorical(y_test, 16)"
      ],
      "metadata": {
        "id": "xRyWK9T9dXq5"
      },
      "execution_count": 14,
      "outputs": []
    },
    {
      "cell_type": "code",
      "source": [
        "tfhub_handle_preprocess = 'https://tfhub.dev/tensorflow/bert_en_uncased_preprocess/3'\n",
        "tfhub_handle_encoder = 'https://tfhub.dev/tensorflow/bert_en_uncased_L-12_H-768_A-12/4'"
      ],
      "metadata": {
        "id": "QPfxvXMtCrVx"
      },
      "execution_count": 15,
      "outputs": []
    },
    {
      "cell_type": "code",
      "source": [
        "def build_classifier_model():\n",
        "  text_input = tf.keras.layers.Input(shape=(), dtype=tf.string, name='text')\n",
        "  preprocessing_layer = tf_hub.KerasLayer(tfhub_handle_preprocess, name='preprocessing')\n",
        "  encoder_inputs = preprocessing_layer(text_input)\n",
        "  encoder = tf_hub.KerasLayer(tfhub_handle_encoder, trainable=True, name='BERT_encoder')\n",
        "  outputs = encoder(encoder_inputs)\n",
        "  net = outputs['pooled_output']\n",
        "  net = tf.keras.layers.Dropout(0.1)(net)\n",
        "  net = tf.keras.layers.Dense(16, activation='softmax', name='classifier')(net)\n",
        "  return tf.keras.Model(text_input, net)"
      ],
      "metadata": {
        "id": "89BeeDf_KuXV"
      },
      "execution_count": 16,
      "outputs": []
    },
    {
      "cell_type": "code",
      "source": [
        "model = build_classifier_model()\n",
        "model.summary()"
      ],
      "metadata": {
        "colab": {
          "base_uri": "https://localhost:8080/"
        },
        "id": "bpFOSTzRQ8FY",
        "outputId": "5a2704c4-e6b0-4249-887a-4e09c588d952"
      },
      "execution_count": 24,
      "outputs": [
        {
          "output_type": "stream",
          "name": "stdout",
          "text": [
            "Model: \"model_1\"\n",
            "__________________________________________________________________________________________________\n",
            " Layer (type)                   Output Shape         Param #     Connected to                     \n",
            "==================================================================================================\n",
            " text (InputLayer)              [(None,)]            0           []                               \n",
            "                                                                                                  \n",
            " preprocessing (KerasLayer)     {'input_type_ids':   0           ['text[0][0]']                   \n",
            "                                (None, 128),                                                      \n",
            "                                 'input_mask': (Non                                               \n",
            "                                e, 128),                                                          \n",
            "                                 'input_word_ids':                                                \n",
            "                                (None, 128)}                                                      \n",
            "                                                                                                  \n",
            " BERT_encoder (KerasLayer)      {'encoder_outputs':  109482241   ['preprocessing[0][0]',          \n",
            "                                 [(None, 128, 768),               'preprocessing[0][1]',          \n",
            "                                 (None, 128, 768),                'preprocessing[0][2]']          \n",
            "                                 (None, 128, 768),                                                \n",
            "                                 (None, 128, 768),                                                \n",
            "                                 (None, 128, 768),                                                \n",
            "                                 (None, 128, 768),                                                \n",
            "                                 (None, 128, 768),                                                \n",
            "                                 (None, 128, 768),                                                \n",
            "                                 (None, 128, 768),                                                \n",
            "                                 (None, 128, 768),                                                \n",
            "                                 (None, 128, 768),                                                \n",
            "                                 (None, 128, 768)],                                               \n",
            "                                 'default': (None,                                                \n",
            "                                768),                                                             \n",
            "                                 'sequence_output':                                               \n",
            "                                 (None, 128, 768),                                                \n",
            "                                 'pooled_output': (                                               \n",
            "                                None, 768)}                                                       \n",
            "                                                                                                  \n",
            " dropout_1 (Dropout)            (None, 768)          0           ['BERT_encoder[0][13]']          \n",
            "                                                                                                  \n",
            " classifier (Dense)             (None, 16)           12304       ['dropout_1[0][0]']              \n",
            "                                                                                                  \n",
            "==================================================================================================\n",
            "Total params: 109,494,545\n",
            "Trainable params: 109,494,544\n",
            "Non-trainable params: 1\n",
            "__________________________________________________________________________________________________\n"
          ]
        }
      ]
    },
    {
      "cell_type": "code",
      "source": [
        "tf.keras.utils.plot_model(model)"
      ],
      "metadata": {
        "colab": {
          "base_uri": "https://localhost:8080/",
          "height": 466
        },
        "id": "XgbBha4ktop6",
        "outputId": "c759509e-86e2-4597-8161-bf8d4bc383b9"
      },
      "execution_count": 25,
      "outputs": [
        {
          "output_type": "execute_result",
          "data": {
            "image/png": "[encoded data removed]",
            "text/plain": [
              "<IPython.core.display.Image object>"
            ]
          },
          "metadata": {},
          "execution_count": 25
        }
      ]
    },
    {
      "cell_type": "code",
      "source": [
        "model.compile(optimizer='adam',\n",
        "              loss='categorical_crossentropy',\n",
        "              metrics=['accuracy'])\n"
      ],
      "metadata": {
        "id": "Bu8UgBwEvNat"
      },
      "execution_count": 26,
      "outputs": []
    },
    {
      "cell_type": "code",
      "source": [
        "X_train"
      ],
      "metadata": {
        "colab": {
          "base_uri": "https://localhost:8080/"
        },
        "id": "CT9xzOunQoQ3",
        "outputId": "b9ae69d1-bd30-4c6f-a3dd-33097bf013d5"
      },
      "execution_count": 27,
      "outputs": [
        {
          "output_type": "execute_result",
          "data": {
            "text/plain": [
              "array([\"When it comes to food on the Internet, the bigger and bolder—and more rainbow colors—the better. It's a formula that's spawned a wave of Stunt Food—food whose sole purpose is to rack up likes on your Instagram feed. Chefs may not crave this kind of food, but it's no secret that they're also natural competitors. When they see something on their social feed, their first instinct is to say I can do it better. So in the spirit of duking it out in the kitchen, Alvin goes head-to-head with Top Chef alum Ilan Hall to see who has the chops to make the craziest, most gonzo Stunt Burger. And they've got an all-star panel of judges—Sean Evans, Matty Matheson, Miss Info—to see if they've gone too far. \\\\n\\\\nFirst We Feast's The Burger Show is a new web series that explores everything about modern burger culture—from the rise of Instagram-bait stunt burgers, to the enduring influence of regional styles—through the eyes of Eggslut chef, Alvin Cailan. Alvin's breakfast-sandwich empire in Los Angeles put him on the culinary map, but it's burgers that are his true passion. Now he's in NYC to understand what drives his obsession, and he's linking up with folks like Padma Lakshmi, Matty Matheson, and Binging With Babish's Andrew Rea to help him along the way.\\\\n\\\\nSubscribe to First We Feast on YouTube: http://goo.gl/UxFzhK\\\\nCheck out more of First We Feast here:\\\\nhttp://firstwefeast.com/\\\\nhttps://twitter.com/firstwefeast\\\\nhttps://www.facebook.com/FirstWeFeast\\\\nhttp://instagram.com/firstwefeast\\\\n\\\\n\\\\nFirst We Feast videos offer an iconoclastic view into the culinary world, taking you behind-the-scenes with some of the country's best chefs and finding the unexpected places where food and pop culture intersect.\",\n",
              "       'Today’s annual Earth Day Doodle was created in partnership with one of the planet’s most influential advocates: Ethologist (animal behavior expert), conservationist, activist, and animal-lover Dr. Jane Goodall, who has dedicated her life to studying and protecting our environment. In it, Jane shares her personal message to the world on Earth Day 2018, including some of her inspiration and what we can all do to have a positive impact on our planet.\\\\n\\\\nFor more info behind the Doodle, please visit: http://www.google.com/doodles/earth-day-2018\\\\n\\\\nFor more info on the Jane Goodall Institute, please visit: http://www.janegoodall.org/',\n",
              "       'A talking robot has sparked a noisy online debate. People simply cannot agree about whether it says Yanny or Laurel. The dispute brings back memories of another social media bust-up, when people disagreed over the colors of a dress.Subscribe to the CBS This Morning Channel HERE: http://bit.ly/1Q0v2hEWatch CBS This Morning HERE: http://bit.ly/1T88yARWatch the latest installment of Note to Self, only on CBS This Morning, HERE: http://cbsn.ws/1Sh8XlBFollow CBS This Morning on Instagram HERE: http://bit.ly/1Q7NGnYLike CBS This Morning on Facebook HERE: http://on.fb.me/1LhtdvIFollow CBS This Morning on Twitter HERE: http://bit.ly/1Xj5W3pFollow CBS This Morning on Google+ HERE: http://bit.ly/1SIM4I8Get the latest news and best in original reporting from CBS News delivered to your inbox. Subscribe to newsletters HERE: http://cbsn.ws/1RqHw7TGet your news on the go! Download CBS News mobile apps HERE: http://cbsn.ws/1Xb1WC8Get new episodes of shows you love across devices the next day, stream local news live, and watch full seasons of CBS fan favorites anytime, anywhere with CBS All Access. Try it free! http://bit.ly/1OQA29BDelivered by Norah O’Donnell and Gayle King, CBS This Morning offers a thoughtful, substantive and insightful source of news and information to a daily audience of 3 million viewers. The Emmy Award-winning broadcast presents a mix of daily news, coverage of developing stories of national and global significance, and interviews with leading figures in politics, business and entertainment. Check local listings for CBS This Morning broadcast times.',\n",
              "       ...,\n",
              "       'I followed my dad around for 2 weeks, giving him with a celebration, daily!! Everyone likes surprises, right?! ...Least to say, he has developed a catchphrase!! \\\\nProfanity WARNING\\\\n\\\\nFor licensing / permission to use: Contact - licensing@jukinmedia.com\\\\n\\\\nSubscribe to my channel for more hilarious videos of Tank Top Moy- https://www.youtube.com/channel/UCyPh2vLe-uMmmAedn7VW46g?sub_confirmation=1',\n",
              "       \"*Sorry the audio isn't super clear, tried a new camera and the audio wasn't great, but the reactions were too good I had to share!\\\\n\\\\nI head to Disneyland once again and saw some characters I didn't expect!\",\n",
              "       \"Here is the 8th Best of Hevesh5 compilation featuring my best domino tricks from 2017!\\\\nLet me know what your favorite domino trick was in the comments! 😊\\\\nClick to share on Facebook! ►http://bit.ly/2DxCZNa ✨instagram: http://instagram.com/hevesh5\\\\n\\\\n2017 was one heck of a year! From travelling doing domino projects, to being on Katy Perry's livestream, to making videos in my studio, finishing up my gap year and going to college... so much has happened! Thanks for all your support, and I wish you all the best in 2018! Happy New Year :)\\\\n\\\\nCamera gear & dominoes used: http://bit.ly/H5gear (affiliate link)\\\\n\\\\nWATCH MORE DOMINO VIDEOS HERE! 😊\\\\n●YOUTUBERS in dominoes ➡️ http://bit.ly/2uRzTDf\\\\n●My BEST domino projects ➡️ http://bit.ly/2swnIWN\\\\n●Video games/movies in dominoes ➡️ http://bit.ly/2u8tZdx\\\\n\\\\nHey! I'm Hevesh5 and I am a professional Domino Artist. I design and build intricate domino setups and chain reactions for your entertainment and for commercial projects. Be sure to subscribe if you want to see more domino videos :) I upload new videos every SATURDAY at 1pm EST! http://bit.ly/SubH5\\\\n\\\\nFOLLOW ME HERE FOR MORE DOMINOES 😉\\\\nInstagram ► http://instagram.com/Hevesh5\\\\nTwitter ► http://twitter.com/Hevesh5 \\\\nFacebook ► http://www.facebook.com/Hevesh5\\\\n2nd Channel ► http://youtube.com/hevesh5extras\\\\nOfficial Website ► http://hevesh5.com\\\\nH5 shirts, signed dominoes, posters, & more! ► http://hevesh5.com/store/\\\\nBusiness inquiries ► Hevesh5(at)gmail.com\\\\n\\\\nMusic: Avenza - Never Sober https://youtube.com/channel/UCrEFc-OuY6Si-mwS5VrOBlQ\\\\nhttps://twitter.com/avenzaofficial\\\\nhttps://soundcloud.com/avenza\\\\nhttps://www.facebook.com/AvenzaOfficial\\\\nProvided by NonCopyrightedMusic: https://www.youtube.com/watch?v=NeBf7CgzgYE\"],\n",
              "      dtype=object)"
            ]
          },
          "metadata": {},
          "execution_count": 27
        }
      ]
    },
    {
      "cell_type": "code",
      "source": [
        "y_test"
      ],
      "metadata": {
        "colab": {
          "base_uri": "https://localhost:8080/"
        },
        "id": "gBV86T7bUUlZ",
        "outputId": "58cc154c-3d9c-4321-fc76-d19c7d4f4e91"
      },
      "execution_count": 28,
      "outputs": [
        {
          "output_type": "execute_result",
          "data": {
            "text/plain": [
              "array([[1., 0., 0., ..., 0., 0., 0.],\n",
              "       [0., 0., 0., ..., 0., 0., 0.],\n",
              "       [0., 0., 0., ..., 0., 0., 0.],\n",
              "       ...,\n",
              "       [0., 1., 0., ..., 0., 0., 0.],\n",
              "       [0., 0., 0., ..., 0., 0., 0.],\n",
              "       [0., 0., 0., ..., 0., 0., 0.]], dtype=float32)"
            ]
          },
          "metadata": {},
          "execution_count": 28
        }
      ]
    },
    {
      "cell_type": "code",
      "source": [
        "history = model.fit(X_train, y_train, epochs=10, class_weight=class_weights)"
      ],
      "metadata": {
        "colab": {
          "base_uri": "https://localhost:8080/",
          "height": 312
        },
        "id": "_yryL6YbvnvO",
        "outputId": "61319993-8195-4e01-b4c5-54b80387a28b"
      },
      "execution_count": 29,
      "outputs": [
        {
          "output_type": "error",
          "ename": "AttributeError",
          "evalue": "ignored",
          "traceback": [
            "\u001b[0;31m---------------------------------------------------------------------------\u001b[0m",
            "\u001b[0;31mAttributeError\u001b[0m                            Traceback (most recent call last)",
            "\u001b[0;32m<ipython-input-29-bb5de307b3c8>\u001b[0m in \u001b[0;36m<module>\u001b[0;34m()\u001b[0m\n\u001b[0;32m----> 1\u001b[0;31m \u001b[0mhistory\u001b[0m \u001b[0;34m=\u001b[0m \u001b[0mmodel\u001b[0m\u001b[0;34m.\u001b[0m\u001b[0mfit\u001b[0m\u001b[0;34m(\u001b[0m\u001b[0mX_train\u001b[0m\u001b[0;34m,\u001b[0m \u001b[0my_train\u001b[0m\u001b[0;34m,\u001b[0m \u001b[0mepochs\u001b[0m\u001b[0;34m=\u001b[0m\u001b[0;36m10\u001b[0m\u001b[0;34m,\u001b[0m \u001b[0mclass_weight\u001b[0m\u001b[0;34m=\u001b[0m\u001b[0mclass_weights\u001b[0m\u001b[0;34m)\u001b[0m\u001b[0;34m\u001b[0m\u001b[0;34m\u001b[0m\u001b[0m\n\u001b[0m",
            "\u001b[0;32m/usr/local/lib/python3.7/dist-packages/keras/utils/traceback_utils.py\u001b[0m in \u001b[0;36merror_handler\u001b[0;34m(*args, **kwargs)\u001b[0m\n\u001b[1;32m     65\u001b[0m     \u001b[0;32mexcept\u001b[0m \u001b[0mException\u001b[0m \u001b[0;32mas\u001b[0m \u001b[0me\u001b[0m\u001b[0;34m:\u001b[0m  \u001b[0;31m# pylint: disable=broad-except\u001b[0m\u001b[0;34m\u001b[0m\u001b[0;34m\u001b[0m\u001b[0m\n\u001b[1;32m     66\u001b[0m       \u001b[0mfiltered_tb\u001b[0m \u001b[0;34m=\u001b[0m \u001b[0m_process_traceback_frames\u001b[0m\u001b[0;34m(\u001b[0m\u001b[0me\u001b[0m\u001b[0;34m.\u001b[0m\u001b[0m__traceback__\u001b[0m\u001b[0;34m)\u001b[0m\u001b[0;34m\u001b[0m\u001b[0;34m\u001b[0m\u001b[0m\n\u001b[0;32m---> 67\u001b[0;31m       \u001b[0;32mraise\u001b[0m \u001b[0me\u001b[0m\u001b[0;34m.\u001b[0m\u001b[0mwith_traceback\u001b[0m\u001b[0;34m(\u001b[0m\u001b[0mfiltered_tb\u001b[0m\u001b[0;34m)\u001b[0m \u001b[0;32mfrom\u001b[0m \u001b[0;32mNone\u001b[0m\u001b[0;34m\u001b[0m\u001b[0;34m\u001b[0m\u001b[0m\n\u001b[0m\u001b[1;32m     68\u001b[0m     \u001b[0;32mfinally\u001b[0m\u001b[0;34m:\u001b[0m\u001b[0;34m\u001b[0m\u001b[0;34m\u001b[0m\u001b[0m\n\u001b[1;32m     69\u001b[0m       \u001b[0;32mdel\u001b[0m \u001b[0mfiltered_tb\u001b[0m\u001b[0;34m\u001b[0m\u001b[0;34m\u001b[0m\u001b[0m\n",
            "\u001b[0;32m/usr/local/lib/python3.7/dist-packages/keras/engine/data_adapter.py\u001b[0m in \u001b[0;36m_make_class_weight_map_fn\u001b[0;34m(class_weight)\u001b[0m\n\u001b[1;32m   1418\u001b[0m     \u001b[0mweighting\u001b[0m\u001b[0;34m.\u001b[0m\u001b[0;34m\u001b[0m\u001b[0;34m\u001b[0m\u001b[0m\n\u001b[1;32m   1419\u001b[0m   \"\"\"\n\u001b[0;32m-> 1420\u001b[0;31m   \u001b[0mclass_ids\u001b[0m \u001b[0;34m=\u001b[0m \u001b[0mlist\u001b[0m\u001b[0;34m(\u001b[0m\u001b[0msorted\u001b[0m\u001b[0;34m(\u001b[0m\u001b[0mclass_weight\u001b[0m\u001b[0;34m.\u001b[0m\u001b[0mkeys\u001b[0m\u001b[0;34m(\u001b[0m\u001b[0;34m)\u001b[0m\u001b[0;34m)\u001b[0m\u001b[0;34m)\u001b[0m\u001b[0;34m\u001b[0m\u001b[0;34m\u001b[0m\u001b[0m\n\u001b[0m\u001b[1;32m   1421\u001b[0m   \u001b[0mexpected_class_ids\u001b[0m \u001b[0;34m=\u001b[0m \u001b[0mlist\u001b[0m\u001b[0;34m(\u001b[0m\u001b[0mrange\u001b[0m\u001b[0;34m(\u001b[0m\u001b[0mlen\u001b[0m\u001b[0;34m(\u001b[0m\u001b[0mclass_ids\u001b[0m\u001b[0;34m)\u001b[0m\u001b[0;34m)\u001b[0m\u001b[0;34m)\u001b[0m\u001b[0;34m\u001b[0m\u001b[0;34m\u001b[0m\u001b[0m\n\u001b[1;32m   1422\u001b[0m   \u001b[0;32mif\u001b[0m \u001b[0mclass_ids\u001b[0m \u001b[0;34m!=\u001b[0m \u001b[0mexpected_class_ids\u001b[0m\u001b[0;34m:\u001b[0m\u001b[0;34m\u001b[0m\u001b[0;34m\u001b[0m\u001b[0m\n",
            "\u001b[0;31mAttributeError\u001b[0m: 'tuple' object has no attribute 'keys'"
          ]
        }
      ]
    }
  ]
}